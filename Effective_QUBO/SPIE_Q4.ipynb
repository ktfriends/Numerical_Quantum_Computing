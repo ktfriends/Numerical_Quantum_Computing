{
 "cells": [
  {
   "cell_type": "code",
   "execution_count": 1,
   "id": "a469b04f",
   "metadata": {},
   "outputs": [
    {
     "name": "stdout",
     "output_type": "stream",
     "text": [
      "# Matrix Q is\n",
      "[[  26.   40.  -80.    2.    4.   -8.]\n",
      " [   0.   72. -160.    4.    8.  -16.]\n",
      " [   0.    0.   96.   -8.  -16.   32.]\n",
      " [   0.    0.    0.  -13.   20.  -40.]\n",
      " [   0.    0.    0.    0.  -16.  -80.]\n",
      " [   0.    0.    0.    0.    0.  152.]]\n",
      "\n",
      "Minimum energy is  -26\n",
      "\n",
      "\n",
      "Running code for D-Wave:\n",
      "\n",
      "from dwave.system import DWaveSampler, EmbeddingComposite\n",
      "sampler_auto = EmbeddingComposite(DWaveSampler(solver={'qpu': True}))\n",
      "\n",
      "linear = {('q1','q1'):26.0, ('q2','q2'):72.0, ('q3','q3'):96.0, ('q4','q4'):-13.0, ('q5','q5'):-16.0, ('q6','q6'):152.0}\n",
      "\n",
      "quadratic = {('q1','q2'):40.0, ('q1','q3'):-80.0, ('q1','q4'):2.0, ('q1','q5'):4.0, ('q1','q6'):-8.0, ('q2','q3'):-160.0, ('q2','q4'):4.0, ('q2','q5'):8.0, ('q2','q6'):-16.0, ('q3','q4'):-8.0, ('q3','q5'):-16.0, ('q3','q6'):32.0, ('q4','q5'):20.0, ('q4','q6'):-40.0, ('q5','q6'):-80.0}\n",
      "\n",
      "Q = dict(linear)\n",
      "Q.update(quadratic)\n",
      "\n",
      "sampleset = sampler_auto.sample_qubo(Q, num_reads=1000)\n",
      "print(sampleset)\n"
     ]
    }
   ],
   "source": [
    "import numpy as np\n",
    "import random, math\n",
    "import copy\n",
    "\n",
    "Dimension = 2\n",
    "qubits = 2\n",
    "A = np.array([[3, 1], [-1, 2]])\n",
    "b = np.array([-1, 5])\n",
    "\n",
    "# 6 qubits with integer solutions\n",
    "# x1 = q1 + 2q2 - 4q3\n",
    "# x = {{-1}, {2}}\n",
    "# mininum -26\n",
    "\n",
    "QM = np.zeros(((qubits+1)*Dimension, (qubits+1)*Dimension))\n",
    "### Linear terms ###\n",
    "for k in range(Dimension):\n",
    "    for i in range(Dimension):\n",
    "        cef1 = pow(2,2*qubits)*pow(A[k][i],2)\n",
    "        cef2 = pow(2,qubits+1)*A[k][i]*b[k]\n",
    "        po2 = (qubits+1)*i + qubits \n",
    "        QM[po2][po2] = QM[po2][po2] + cef1 + cef2\n",
    "        for l in range(qubits):\n",
    "            cef1 = pow(2,2*l)*pow(A[k][i],2)\n",
    "            cef2 = pow(2,l+1)*A[k][i]*b[k]\n",
    "            po1 = (qubits+1)*i + l\n",
    "            QM[po1][po1] = QM[po1][po1] + cef1 - cef2\n",
    "            \n",
    "### First quadratic term ### \n",
    "for k in range(Dimension):\n",
    "    for i in range(Dimension):\n",
    "        for l in range (qubits):\n",
    "            qcef = pow(2, l+qubits+1)*pow(A[k][i],2)\n",
    "            po3 = (qubits+1)*i + l\n",
    "            po4 = (qubits+1)*i + qubits \n",
    "            QM[po3][po4] = QM[po3][po4] - qcef\n",
    "        for l1 in range(qubits-1):\n",
    "            for l2 in range(l1+1,qubits):\n",
    "                qcef = pow(2, l1+l2+1)*pow(A[k][i],2)\n",
    "                po1 = (qubits+1)*i + l1\n",
    "                po2 = (qubits+1)*i + l2\n",
    "                QM[po1][po2] = QM[po1][po2] + qcef\n",
    "                \n",
    "### Second quadratic term ###                 \n",
    "for k in range(Dimension):\n",
    "    for i in range(Dimension-1):\n",
    "        for j in range(i+1,Dimension):\n",
    "            qcef = pow(2, 2*qubits+1)*A[k][i]*A[k][j]\n",
    "            po3 = (qubits+1)*i + qubits\n",
    "            po4 = (qubits+1)*j + qubits\n",
    "            QM[po3][po4] = QM[po3][po4] + qcef\n",
    "            for l in range (qubits):\n",
    "                qcef = pow(2, l+qubits+1)*A[k][i]*A[k][j]\n",
    "                po5 = (qubits+1)*i + qubits \n",
    "                po6 = (qubits+1)*j + l\n",
    "                QM[po5][po6] = QM[po5][po6] - qcef\n",
    "                po7 = (qubits+1)*i + l\n",
    "                po8 = (qubits+1)*j + qubits\n",
    "                QM[po7][po8] = QM[po7][po8] - qcef\n",
    "            for l1 in range(qubits):\n",
    "                for l2 in range(qubits):  \n",
    "                    qcef = pow(2, l1+l2+1)*A[k][i]*A[k][j] \n",
    "                    po1 = (qubits+1)*i + l1\n",
    "                    po2 = (qubits+1)*j + l2\n",
    "                    QM[po1][po2] = QM[po1][po2] + qcef\n",
    "\n",
    "# Print Matrix Q\n",
    "print(\"# Matrix Q is\")\n",
    "print(QM)\n",
    "print(\"\\nMinimum energy is \",-np.dot(b,b))\n",
    "print(\"\\n\")\n",
    "\n",
    "# Print Python code for the run in D-Wave quantum processing unit\n",
    "print(\"Running code for D-Wave:\\n\")\n",
    "print(\"from dwave.system import DWaveSampler, EmbeddingComposite\")\n",
    "print(\"sampler_auto = EmbeddingComposite(DWaveSampler(solver={'qpu': True}))\\n\")\n",
    "print(\"linear = {\", end = \"\")\n",
    "for i in range((qubits+1)*Dimension-1): \n",
    "    linear = i + 1\n",
    "    print (\"('q\",linear,\"','q\",linear,\"'):\",format(QM[i][i]),sep='', end = \", \")\n",
    "print (\"('q\",(qubits+1)*Dimension,\"','q\",(qubits+1)*Dimension,\"'):\",format(QM[(qubits+1)*Dimension-1][(qubits+1)*Dimension-1]),\"}\", sep='')\n",
    "\n",
    "print(\"\\nquadratic = {\", end = \"\")\n",
    "for i in range((qubits+1)*Dimension-1):\n",
    "    for j in range(i+1,(qubits+1)*Dimension):\n",
    "        qdrt1 = i + 1\n",
    "        qdrt2 = j + 1\n",
    "        if i == (qubits+1)*Dimension-2 and j == (qubits+1)*Dimension-1:\n",
    "            print (\"('q\",qdrt1,\"','q\",qdrt2,\"'):\",format(QM[i][j]), \"}\", sep='')\n",
    "        else:\n",
    "            print (\"('q\",qdrt1,\"','q\",qdrt2,\"'):\",format(QM[i][j]), sep ='', end = \", \")\n",
    "\n",
    "print(\"\\nQ = dict(linear)\")\n",
    "print(\"Q.update(quadratic)\\n\")\n",
    "\n",
    "qa_iter = 1000\n",
    "print(\"sampleset = sampler_auto.sample_qubo(Q, num_reads=\",qa_iter,\")\", sep = \"\")\n",
    "print(\"print(sampleset)\")  "
   ]
  },
  {
   "cell_type": "code",
   "execution_count": 2,
   "id": "66fc1404",
   "metadata": {},
   "outputs": [
    {
     "name": "stdout",
     "output_type": "stream",
     "text": [
      "   q1 q2 q3 q4 q5 q6 energy num_oc. chain_.\n",
      "0   1  1  1  0  1  0  -26.0     240     0.0\n",
      "1   1  1  1  1  1  0  -21.0     123     0.0\n",
      "2   1  1  1  1  0  0  -21.0     296     0.0\n",
      "3   0  0  0  0  1  0  -16.0     108     0.0\n",
      "4   0  1  1  0  1  0  -16.0      29     0.0\n",
      "5   0  1  1  1  1  0  -13.0      19     0.0\n",
      "6   0  0  0  1  0  0  -13.0      94     0.0\n",
      "7   0  1  1  1  0  0   -9.0      29     0.0\n",
      "8   0  0  0  1  1  0   -9.0      25     0.0\n",
      "9   1  1  1  0  0  0   -6.0      16     0.0\n",
      "10  0  0  0  0  0  0    0.0      16     0.0\n",
      "11  0  1  1  0  0  0    8.0       1     0.0\n",
      "12  1  0  1  1  1  0   15.0       1     0.0\n",
      "13  1  0  1  1  0  0   23.0       2     0.0\n",
      "14  0  0  0  1  1  1   23.0       1     0.0\n",
      "['BINARY', 15 rows, 1000 samples, 6 variables]\n"
     ]
    }
   ],
   "source": [
    "from dwave.system import DWaveSampler, EmbeddingComposite\n",
    "sampler_auto = EmbeddingComposite(DWaveSampler(solver={'qpu': True}))\n",
    "\n",
    "linear = {('q1','q1'):26.0, ('q2','q2'):72.0, ('q3','q3'):96.0, ('q4','q4'):-13.0, ('q5','q5'):-16.0, ('q6','q6'):152.0}\n",
    "\n",
    "quadratic = {('q1','q2'):40.0, ('q1','q3'):-80.0, ('q1','q4'):2.0, ('q1','q5'):4.0, ('q1','q6'):-8.0, ('q2','q3'):-160.0, ('q2','q4'):4.0, ('q2','q5'):8.0, ('q2','q6'):-16.0, ('q3','q4'):-8.0, ('q3','q5'):-16.0, ('q3','q6'):32.0, ('q4','q5'):20.0, ('q4','q6'):-40.0, ('q5','q6'):-80.0}\n",
    "\n",
    "Q = dict(linear)\n",
    "Q.update(quadratic)\n",
    "\n",
    "sampleset = sampler_auto.sample_qubo(Q, num_reads=1000)\n",
    "print(sampleset)"
   ]
  },
  {
   "cell_type": "code",
   "execution_count": 3,
   "id": "bab0c66c",
   "metadata": {},
   "outputs": [
    {
     "name": "stdout",
     "output_type": "stream",
     "text": [
      "   q1 q2 q3 q4 q5 q6 energy num_oc. chain_.\n",
      "0   1  1  1  0  1  0  -26.0     452     0.0\n",
      "1   1  1  1  1  0  0  -21.0     177     0.0\n",
      "2   1  1  1  1  1  0  -21.0     195     0.0\n",
      "3   0  1  1  0  1  0  -16.0      46     0.0\n",
      "4   0  0  0  0  1  0  -16.0      48     0.0\n",
      "5   0  1  1  1  1  0  -13.0      30     0.0\n",
      "6   0  0  0  1  0  0  -13.0      18     0.0\n",
      "7   0  0  0  1  1  0   -9.0       7     0.0\n",
      "8   0  1  1  1  0  0   -9.0      12     0.0\n",
      "9   1  1  1  0  0  0   -6.0      12     0.0\n",
      "10  0  1  1  0  0  0    8.0       2     0.0\n",
      "11  1  0  0  0  1  0   14.0       1     0.0\n",
      "['BINARY', 12 rows, 1000 samples, 6 variables]\n"
     ]
    }
   ],
   "source": [
    "sampleset = sampler_auto.sample_qubo(Q, num_reads=1000)\n",
    "print(sampleset)"
   ]
  },
  {
   "cell_type": "code",
   "execution_count": 4,
   "id": "cc10f17f",
   "metadata": {},
   "outputs": [
    {
     "name": "stdout",
     "output_type": "stream",
     "text": [
      "   q1 q2 q3 q4 q5 q6 energy num_oc. chain_.\n",
      "0   1  1  1  0  1  0  -26.0     405     0.0\n",
      "1   1  1  1  1  0  0  -21.0     222     0.0\n",
      "2   1  1  1  1  1  0  -21.0     105     0.0\n",
      "3   0  1  1  0  1  0  -16.0      55     0.0\n",
      "4   0  0  0  0  1  0  -16.0      57     0.0\n",
      "5   0  1  1  1  1  0  -13.0      17     0.0\n",
      "6   0  0  0  1  0  0  -13.0      58     0.0\n",
      "7   0  1  1  1  0  0   -9.0      23     0.0\n",
      "8   0  0  0  1  1  0   -9.0       8     0.0\n",
      "9   1  1  1  0  0  0   -6.0      26     0.0\n",
      "10  0  0  0  0  0  0    0.0       9     0.0\n",
      "11  0  1  1  0  0  0    8.0       2     0.0\n",
      "12  1  0  1  0  1  0   14.0       1     0.0\n",
      "13  1  0  0  0  1  0   14.0       3     0.0\n",
      "14  1  0  0  1  0  0   15.0       4     0.0\n",
      "15  1  0  1  1  1  0   15.0       2     0.0\n",
      "16  1  0  0  0  0  0   26.0       3     0.0\n",
      "['BINARY', 17 rows, 1000 samples, 6 variables]\n"
     ]
    }
   ],
   "source": [
    "sampleset = sampler_auto.sample_qubo(Q, num_reads=1000)\n",
    "print(sampleset)"
   ]
  },
  {
   "cell_type": "code",
   "execution_count": 5,
   "id": "a02e991d",
   "metadata": {},
   "outputs": [
    {
     "name": "stdout",
     "output_type": "stream",
     "text": [
      "   q1 q2 q3 q4 q5 q6 energy num_oc. chain_b.\n",
      "0   1  1  1  0  1  0  -26.0     418      0.0\n",
      "1   1  1  1  1  1  0  -21.0     105      0.0\n",
      "2   1  1  1  1  0  0  -21.0     116      0.0\n",
      "3   0  1  1  0  1  0  -16.0      77      0.0\n",
      "4   0  0  0  0  1  0  -16.0      88      0.0\n",
      "5   0  1  1  1  1  0  -13.0      38      0.0\n",
      "6   0  0  0  1  0  0  -13.0      68      0.0\n",
      "7   0  0  0  1  1  0   -9.0      22      0.0\n",
      "8   0  1  1  1  0  0   -9.0      18      0.0\n",
      "9   1  1  1  0  0  0   -6.0      25      0.0\n",
      "10  0  0  0  0  0  0    0.0      19      0.0\n",
      "11  0  1  1  0  0  0    8.0       1      0.0\n",
      "12  1  0  1  0  1  0   14.0       1      0.0\n",
      "13  0  0  0  1  1  1   23.0       2      0.0\n",
      "14  0  1  0  1  0  0   63.0       1      0.0\n",
      "15  0  0  1  0  1  0   64.0       1 0.166667\n",
      "['BINARY', 16 rows, 1000 samples, 6 variables]\n"
     ]
    }
   ],
   "source": [
    "sampleset = sampler_auto.sample_qubo(Q, num_reads=1000)\n",
    "print(sampleset)"
   ]
  },
  {
   "cell_type": "code",
   "execution_count": 6,
   "id": "1c35625e",
   "metadata": {},
   "outputs": [
    {
     "name": "stdout",
     "output_type": "stream",
     "text": [
      "   q1 q2 q3 q4 q5 q6 energy num_oc. chain_.\n",
      "0   1  1  1  0  1  0  -26.0     446     0.0\n",
      "1   1  1  1  1  1  0  -21.0     127     0.0\n",
      "2   1  1  1  1  0  0  -21.0     145     0.0\n",
      "3   0  1  1  0  1  0  -16.0      66     0.0\n",
      "4   0  0  0  0  1  0  -16.0      76     0.0\n",
      "5   0  1  1  1  1  0  -13.0      36     0.0\n",
      "6   0  0  0  1  0  0  -13.0      35     0.0\n",
      "7   0  1  1  1  0  0   -9.0      22     0.0\n",
      "8   0  0  0  1  1  0   -9.0      15     0.0\n",
      "9   1  1  1  0  0  0   -6.0      18     0.0\n",
      "10  0  0  0  0  0  0    0.0       6     0.0\n",
      "11  1  0  1  0  1  0   14.0       2     0.0\n",
      "12  1  0  0  0  1  0   14.0       2     0.0\n",
      "13  1  0  0  1  0  0   15.0       2     0.0\n",
      "14  1  0  1  1  1  0   15.0       1     0.0\n",
      "15  1  1  1  0  1  1   54.0       1     0.0\n",
      "['BINARY', 16 rows, 1000 samples, 6 variables]\n"
     ]
    }
   ],
   "source": [
    "sampleset = sampler_auto.sample_qubo(Q, num_reads=1000)\n",
    "print(sampleset)"
   ]
  },
  {
   "cell_type": "code",
   "execution_count": 7,
   "id": "aaaa24b9",
   "metadata": {},
   "outputs": [
    {
     "name": "stdout",
     "output_type": "stream",
     "text": [
      "   q1 q2 q3 q4 q5 q6 energy num_oc. chain_.\n",
      "0   1  1  1  0  1  0  -26.0     241     0.0\n",
      "1   1  1  1  1  1  0  -21.0     123     0.0\n",
      "2   1  1  1  1  0  0  -21.0     325     0.0\n",
      "3   0  0  0  0  1  0  -16.0      43     0.0\n",
      "4   0  1  1  0  1  0  -16.0      52     0.0\n",
      "5   0  0  0  1  0  0  -13.0      77     0.0\n",
      "6   0  1  1  1  1  0  -13.0      36     0.0\n",
      "7   0  0  0  1  1  0   -9.0      15     0.0\n",
      "8   0  1  1  1  0  0   -9.0      60     0.0\n",
      "9   1  1  1  0  0  0   -6.0      15     0.0\n",
      "10  0  0  0  0  0  0    0.0       3     0.0\n",
      "11  0  1  1  0  0  0    8.0       5     0.0\n",
      "12  1  0  0  0  1  0   14.0       1     0.0\n",
      "13  1  0  0  1  0  0   15.0       3     0.0\n",
      "14  1  0  1  1  0  0   23.0       1     0.0\n",
      "['BINARY', 15 rows, 1000 samples, 6 variables]\n"
     ]
    }
   ],
   "source": [
    "sampleset = sampler_auto.sample_qubo(Q, num_reads=1000)\n",
    "print(sampleset)"
   ]
  },
  {
   "cell_type": "code",
   "execution_count": 8,
   "id": "1c4977d8",
   "metadata": {},
   "outputs": [
    {
     "name": "stdout",
     "output_type": "stream",
     "text": [
      "   q1 q2 q3 q4 q5 q6 energy num_oc. chain_.\n",
      "0   1  1  1  0  1  0  -26.0     290     0.0\n",
      "1   1  1  1  1  0  0  -21.0     169     0.0\n",
      "2   1  1  1  1  1  0  -21.0     117     0.0\n",
      "3   0  1  1  0  1  0  -16.0      41     0.0\n",
      "4   0  0  0  0  1  0  -16.0     130     0.0\n",
      "5   0  1  1  1  1  0  -13.0      28     0.0\n",
      "6   0  0  0  1  0  0  -13.0     117     0.0\n",
      "7   0  1  1  1  0  0   -9.0      31     0.0\n",
      "8   0  0  0  1  1  0   -9.0      33     0.0\n",
      "9   1  1  1  0  0  0   -6.0      15     0.0\n",
      "10  0  0  0  0  0  0    0.0      13     0.0\n",
      "11  0  1  1  0  0  0    8.0       2     0.0\n",
      "12  1  0  1  0  1  0   14.0       1     0.0\n",
      "13  1  0  0  0  1  0   14.0       3     0.0\n",
      "14  1  0  0  1  0  0   15.0       6     0.0\n",
      "15  1  0  1  1  0  0   23.0       2     0.0\n",
      "16  0  0  0  1  1  1   23.0       1     0.0\n",
      "17  1  0  0  0  0  0   26.0       1     0.0\n",
      "['BINARY', 18 rows, 1000 samples, 6 variables]\n"
     ]
    }
   ],
   "source": [
    "sampleset = sampler_auto.sample_qubo(Q, num_reads=1000)\n",
    "print(sampleset)"
   ]
  },
  {
   "cell_type": "code",
   "execution_count": 9,
   "id": "dbd02eb0",
   "metadata": {},
   "outputs": [
    {
     "name": "stdout",
     "output_type": "stream",
     "text": [
      "   q1 q2 q3 q4 q5 q6 energy num_oc. chain_b.\n",
      "0   1  1  1  0  1  0  -26.0     309      0.0\n",
      "15  1  1  1  0  1  0  -26.0       1 0.166667\n",
      "1   1  1  1  1  0  0  -21.0     183      0.0\n",
      "2   1  1  1  1  1  0  -21.0      71      0.0\n",
      "3   0  1  1  0  1  0  -16.0      54      0.0\n",
      "4   0  0  0  0  1  0  -16.0     105      0.0\n",
      "5   0  1  1  1  1  0  -13.0      13      0.0\n",
      "6   0  0  0  1  0  0  -13.0     150      0.0\n",
      "7   0  1  1  1  0  0   -9.0      40      0.0\n",
      "8   0  0  0  1  1  0   -9.0      18      0.0\n",
      "9   1  1  1  0  0  0   -6.0      29      0.0\n",
      "10  0  0  0  0  0  0    0.0      21      0.0\n",
      "11  0  1  1  0  0  0    8.0       2      0.0\n",
      "16  1  0  0  0  1  0   14.0       1 0.166667\n",
      "12  1  0  1  1  1  0   15.0       1      0.0\n",
      "13  1  0  0  1  0  0   15.0       1      0.0\n",
      "14  0  0  1  1  0  0   75.0       1 0.166667\n",
      "['BINARY', 17 rows, 1000 samples, 6 variables]\n"
     ]
    }
   ],
   "source": [
    "sampleset = sampler_auto.sample_qubo(Q, num_reads=1000)\n",
    "print(sampleset)"
   ]
  },
  {
   "cell_type": "code",
   "execution_count": 10,
   "id": "113fb691",
   "metadata": {},
   "outputs": [
    {
     "name": "stdout",
     "output_type": "stream",
     "text": [
      "   q1 q2 q3 q4 q5 q6 energy num_oc. chain_b.\n",
      "0   1  1  1  0  1  0  -26.0     325      0.0\n",
      "1   1  1  1  1  1  0  -21.0      86      0.0\n",
      "2   1  1  1  1  0  0  -21.0     286      0.0\n",
      "3   0  0  0  0  1  0  -16.0      59      0.0\n",
      "4   0  1  1  0  1  0  -16.0      51      0.0\n",
      "5   0  0  0  1  0  0  -13.0      80      0.0\n",
      "6   0  1  1  1  1  0  -13.0      22      0.0\n",
      "7   0  1  1  1  0  0   -9.0      28      0.0\n",
      "8   0  0  0  1  1  0   -9.0      20      0.0\n",
      "9   1  1  1  0  0  0   -6.0      19      0.0\n",
      "10  0  0  0  0  0  0    0.0      14      0.0\n",
      "11  0  1  1  0  0  0    8.0       1      0.0\n",
      "12  1  0  0  0  1  0   14.0       1      0.0\n",
      "13  1  0  1  0  1  0   14.0       2      0.0\n",
      "14  1  0  0  1  0  0   15.0       4      0.0\n",
      "15  1  0  1  1  0  0   23.0       1      0.0\n",
      "16  0  0  1  1  1  0   63.0       1 0.166667\n",
      "['BINARY', 17 rows, 1000 samples, 6 variables]\n"
     ]
    }
   ],
   "source": [
    "sampleset = sampler_auto.sample_qubo(Q, num_reads=1000)\n",
    "print(sampleset)"
   ]
  },
  {
   "cell_type": "code",
   "execution_count": 11,
   "id": "0bf14008",
   "metadata": {},
   "outputs": [
    {
     "name": "stdout",
     "output_type": "stream",
     "text": [
      "   q1 q2 q3 q4 q5 q6 energy num_oc. chain_.\n",
      "0   1  1  1  0  1  0  -26.0     352     0.0\n",
      "1   1  1  1  1  1  0  -21.0     142     0.0\n",
      "2   1  1  1  1  0  0  -21.0     124     0.0\n",
      "3   0  1  1  0  1  0  -16.0      36     0.0\n",
      "4   0  0  0  0  1  0  -16.0     166     0.0\n",
      "5   0  0  0  1  0  0  -13.0      73     0.0\n",
      "6   0  1  1  1  1  0  -13.0      20     0.0\n",
      "7   0  1  1  1  0  0   -9.0      13     0.0\n",
      "8   0  0  0  1  1  0   -9.0      43     0.0\n",
      "9   1  1  1  0  0  0   -6.0      14     0.0\n",
      "10  0  0  0  0  0  0    0.0      10     0.0\n",
      "11  0  1  1  0  0  0    8.0       1     0.0\n",
      "12  1  0  0  0  1  0   14.0       1     0.0\n",
      "13  1  0  1  0  1  0   14.0       1     0.0\n",
      "14  1  0  1  1  1  0   15.0       1     0.0\n",
      "15  1  1  1  1  1  1   19.0       1     0.0\n",
      "16  0  0  0  1  1  1   23.0       1     0.0\n",
      "17  1  0  0  0  0  0   26.0       1     0.0\n",
      "['BINARY', 18 rows, 1000 samples, 6 variables]\n"
     ]
    }
   ],
   "source": [
    "sampleset = sampler_auto.sample_qubo(Q, num_reads=1000)\n",
    "print(sampleset)"
   ]
  },
  {
   "cell_type": "code",
   "execution_count": null,
   "id": "42e7d5d9",
   "metadata": {},
   "outputs": [],
   "source": []
  }
 ],
 "metadata": {
  "kernelspec": {
   "display_name": "Python 3 (ipykernel)",
   "language": "python",
   "name": "python3"
  },
  "language_info": {
   "codemirror_mode": {
    "name": "ipython",
    "version": 3
   },
   "file_extension": ".py",
   "mimetype": "text/x-python",
   "name": "python",
   "nbconvert_exporter": "python",
   "pygments_lexer": "ipython3",
   "version": "3.8.12"
  }
 },
 "nbformat": 4,
 "nbformat_minor": 5
}
