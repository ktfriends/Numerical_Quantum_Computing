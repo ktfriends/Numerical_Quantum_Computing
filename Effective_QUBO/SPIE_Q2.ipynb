{
 "cells": [
  {
   "cell_type": "code",
   "execution_count": 2,
   "id": "fc5f5cb9",
   "metadata": {},
   "outputs": [
    {
     "name": "stdout",
     "output_type": "stream",
     "text": [
      "# Matrix Q is\n",
      "[[ 26.  40.   0.   0.   2.   4.  -2.  -4.]\n",
      " [  0.  72.   0.   0.   4.   8.  -4.  -8.]\n",
      " [  0.   0.  -6.  40.  -2.  -4.   2.   4.]\n",
      " [  0.   0.   0.   8.  -4.  -8.   4.   8.]\n",
      " [  0.   0.   0.   0. -13.  20.   0.   0.]\n",
      " [  0.   0.   0.   0.   0. -16.   0.   0.]\n",
      " [  0.   0.   0.   0.   0.   0.  23.  20.]\n",
      " [  0.   0.   0.   0.   0.   0.   0.  56.]]\n",
      "\n",
      "Minimum energy is  -26\n",
      "\n",
      "\n",
      "Running code for D-Wave:\n",
      "\n",
      "from dwave.system import DWaveSampler, EmbeddingComposite\n",
      "sampler_auto = EmbeddingComposite(DWaveSampler(solver={'qpu': True}))\n",
      "\n",
      "linear = {('q1','q1'):26.0, ('q2','q2'):72.0, ('q3','q3'):-6.0, ('q4','q4'):8.0, ('q5','q5'):-13.0, ('q6','q6'):-16.0, ('q7','q7'):23.0, ('q8','q8'):56.0}\n",
      "\n",
      "quadratic = {('q1','q2'):40.0, ('q1','q5'):2.0, ('q1','q6'):4.0, ('q1','q7'):-2.0, ('q1','q8'):-4.0, ('q2','q5'):4.0, ('q2','q6'):8.0, ('q2','q7'):-4.0, ('q2','q8'):-8.0, ('q3','q4'):40.0, ('q3','q5'):-2.0, ('q3','q6'):-4.0, ('q3','q7'):2.0, ('q3','q8'):4.0, ('q4','q5'):-4.0, ('q4','q6'):-8.0, ('q4','q7'):4.0, ('q4','q8'):8.0, ('q5','q6'):20.0, ('q7','q8'):20.0}\n",
      "\n",
      "Q = dict(linear)\n",
      "Q.update(quadratic)\n",
      "\n",
      "sampleset = sampler_auto.sample_qubo(Q, num_reads=1000)\n",
      "print(sampleset)\n"
     ]
    }
   ],
   "source": [
    "import numpy as np\n",
    "import random, math\n",
    "import copy\n",
    "\n",
    "Dimension = 2\n",
    "qubits = 2\n",
    "A = np.array([[3, 1], [-1, 2]])\n",
    "b = np.array([-1, 5])\n",
    "\n",
    "# 8 qubits with integer solutions\n",
    "# x = q1 + 2q2 - q3 - 2q4\n",
    "# x = {{-1}, {2}}\n",
    "# mininum -26\n",
    "\n",
    "QM = np.zeros((2*qubits*Dimension, 2*qubits*Dimension))\n",
    "### Linear terms ###\n",
    "for k in range(Dimension):\n",
    "    for i in range(Dimension):\n",
    "        for l in range(qubits):\n",
    "            cef1 = pow(2,2*l)*pow(A[k][i],2)\n",
    "            cef2 = pow(2,l+1)*A[k][i]*b[k]\n",
    "            po1 = 2*qubits*i + l\n",
    "            po2 = 2*qubits*i + l + qubits\n",
    "            QM[po1][po1] = QM[po1][po1] + cef1 - cef2\n",
    "            QM[po2][po2] = QM[po2][po2] + cef1 + cef2\n",
    " \n",
    "### First quadratic term ### \n",
    "for k in range(Dimension):\n",
    "    for i in range(Dimension):\n",
    "        for l1 in range(qubits-1):\n",
    "            for l2 in range(l1+1,qubits):\n",
    "                qcef = pow(2, l1+l2+1)*pow(A[k][i],2)\n",
    "                po1 = 2*qubits*i + l1\n",
    "                po2 = 2*qubits*i + l2\n",
    "                QM[po1][po2] = QM[po1][po2] + qcef\n",
    "                po3 = 2*qubits*i + l1 + qubits\n",
    "                po4 = 2*qubits*i + l2 + qubits\n",
    "                QM[po3][po4] = QM[po3][po4] + qcef\n",
    " \n",
    "### Second quadratic term ### \n",
    "for k in range(Dimension):\n",
    "    for i in range(Dimension-1):\n",
    "        for j in range(i+1,Dimension):\n",
    "            for l1 in range(qubits):\n",
    "                for l2 in range(qubits):  \n",
    "                    qcef = pow(2, l1+l2+1)*A[k][i]*A[k][j] \n",
    "                    po1 = 2*qubits*i + l1\n",
    "                    po2 = 2*qubits*j + l2\n",
    "                    QM[po1][po2] = QM[po1][po2] + qcef\n",
    "                    po3 = 2*qubits*i + l1 + qubits\n",
    "                    po4 = 2*qubits*j + l2 + qubits\n",
    "                    QM[po3][po4] = QM[po3][po4] + qcef\n",
    "                    po5 = 2*qubits*i + l1\n",
    "                    po6 = 2*qubits*j + l2 + qubits\n",
    "                    QM[po5][po6] = QM[po5][po6] - qcef\n",
    "                    po7 = 2*qubits*i + l1 + qubits\n",
    "                    po8 = 2*qubits*j + l2\n",
    "                    QM[po7][po8] = QM[po7][po8] - qcef\n",
    "\n",
    "# Print Matrix Q\n",
    "print(\"# Matrix Q is\")\n",
    "print(QM)\n",
    "print(\"\\nMinimum energy is \",-np.dot(b,b))\n",
    "print(\"\\n\")\n",
    "\n",
    "# Print Python code for the run in D-Wave quantum processing unit\n",
    "print(\"Running code for D-Wave:\\n\")\n",
    "print(\"from dwave.system import DWaveSampler, EmbeddingComposite\")\n",
    "print(\"sampler_auto = EmbeddingComposite(DWaveSampler(solver={'qpu': True}))\\n\")\n",
    "print(\"linear = {\", end = \"\")\n",
    "for i in range(2*qubits*Dimension-1): \n",
    "    linear = i + 1\n",
    "    print (\"('q\",linear,\"','q\",linear,\"'):\",format(QM[i][i]),sep='', end = \", \")\n",
    "print (\"('q\",2*qubits*Dimension,\"','q\",2*qubits*Dimension,\"'):\",format(QM[2*qubits*Dimension-1][2*qubits*Dimension-1]),\"}\", sep='')\n",
    "\n",
    "print(\"\\nquadratic = {\", end = \"\")\n",
    "for i in range(2*qubits*Dimension-1):\n",
    "    for j in range(i+1,2*qubits*Dimension):\n",
    "        if QM[i][j] != 0:\n",
    "            qdrt1 = i + 1\n",
    "            qdrt2 = j + 1\n",
    "            if i == 2*qubits*Dimension-2 and j == 2*qubits*Dimension-1:\n",
    "                print (\"('q\",qdrt1,\"','q\",qdrt2,\"'):\",format(QM[i][j]), \"}\", sep='')\n",
    "            else:\n",
    "                print (\"('q\",qdrt1,\"','q\",qdrt2,\"'):\",format(QM[i][j]), sep ='', end = \", \")\n",
    "\n",
    "print(\"\\nQ = dict(linear)\")\n",
    "print(\"Q.update(quadratic)\\n\")\n",
    "\n",
    "qa_iter = 1000\n",
    "print(\"sampleset = sampler_auto.sample_qubo(Q, num_reads=\",qa_iter,\")\", sep = \"\")\n",
    "print(\"print(sampleset)\")      "
   ]
  },
  {
   "cell_type": "code",
   "execution_count": 3,
   "id": "08c03bff",
   "metadata": {},
   "outputs": [
    {
     "name": "stdout",
     "output_type": "stream",
     "text": [
      "  q1 q2 q3 q4 q5 q6 q7 q8 energy num_oc. chain_.\n",
      "0  0  0  1  0  0  1  0  0  -26.0     795     0.0\n",
      "1  0  0  1  0  1  1  0  0  -21.0      88     0.0\n",
      "2  0  0  1  0  1  0  0  0  -21.0     113     0.0\n",
      "3  0  0  0  0  0  1  0  0  -16.0       1     0.0\n",
      "4  0  0  0  1  0  1  0  0  -16.0       2     0.0\n",
      "5  0  0  0  0  1  0  0  0  -13.0       1     0.0\n",
      "['BINARY', 6 rows, 1000 samples, 8 variables]\n"
     ]
    }
   ],
   "source": [
    "from dwave.system import DWaveSampler, EmbeddingComposite\n",
    "sampler_auto = EmbeddingComposite(DWaveSampler(solver={'qpu': True}))\n",
    "\n",
    "linear = {('q1','q1'):26.0, ('q2','q2'):72.0, ('q3','q3'):-6.0, ('q4','q4'):8.0, ('q5','q5'):-13.0, ('q6','q6'):-16.0, ('q7','q7'):23.0, ('q8','q8'):56.0}\n",
    "\n",
    "quadratic = {('q1','q2'):40.0, ('q1','q5'):2.0, ('q1','q6'):4.0, ('q1','q7'):-2.0, ('q1','q8'):-4.0, ('q2','q5'):4.0, ('q2','q6'):8.0, ('q2','q7'):-4.0, ('q2','q8'):-8.0, ('q3','q4'):40.0, ('q3','q5'):-2.0, ('q3','q6'):-4.0, ('q3','q7'):2.0, ('q3','q8'):4.0, ('q4','q5'):-4.0, ('q4','q6'):-8.0, ('q4','q7'):4.0, ('q4','q8'):8.0, ('q5','q6'):20.0, ('q7','q8'):20.0}\n",
    "\n",
    "Q = dict(linear)\n",
    "Q.update(quadratic)\n",
    "\n",
    "sampleset = sampler_auto.sample_qubo(Q, num_reads=1000)\n",
    "print(sampleset)"
   ]
  },
  {
   "cell_type": "code",
   "execution_count": 4,
   "id": "a2b04671",
   "metadata": {},
   "outputs": [
    {
     "name": "stdout",
     "output_type": "stream",
     "text": [
      "  q1 q2 q3 q4 q5 q6 q7 q8 energy num_oc. chain_.\n",
      "0  0  0  1  0  0  1  0  0  -26.0     822     0.0\n",
      "1  0  0  1  0  1  0  0  0  -21.0      67     0.0\n",
      "2  0  0  1  0  1  1  0  0  -21.0      58     0.0\n",
      "3  0  0  0  1  0  1  0  0  -16.0      29     0.0\n",
      "4  0  0  0  0  0  1  0  0  -16.0       8     0.0\n",
      "5  0  0  0  0  1  0  0  0  -13.0       6     0.0\n",
      "6  0  0  0  1  1  1  0  0  -13.0       5     0.0\n",
      "7  0  0  0  1  1  0  0  0   -9.0       3     0.0\n",
      "8  0  0  1  0  0  0  0  0   -6.0       1     0.0\n",
      "9  0  0  1  0  1  1  1  0    4.0       1     0.0\n",
      "['BINARY', 10 rows, 1000 samples, 8 variables]\n"
     ]
    }
   ],
   "source": [
    "sampleset = sampler_auto.sample_qubo(Q, num_reads=1000)\n",
    "print(sampleset)"
   ]
  },
  {
   "cell_type": "code",
   "execution_count": 5,
   "id": "3c719ddc",
   "metadata": {},
   "outputs": [
    {
     "name": "stdout",
     "output_type": "stream",
     "text": [
      "  q1 q2 q3 q4 q5 q6 q7 q8 energy num_oc. chain_.\n",
      "0  0  0  1  0  0  1  0  0  -26.0     927     0.0\n",
      "1  0  0  1  0  1  1  0  0  -21.0      39     0.0\n",
      "2  0  0  1  0  1  0  0  0  -21.0      22     0.0\n",
      "3  0  0  0  0  0  1  0  0  -16.0       3     0.0\n",
      "4  0  0  0  1  0  1  0  0  -16.0       6     0.0\n",
      "5  0  0  0  0  1  0  0  0  -13.0       1     0.0\n",
      "6  0  0  1  0  0  1  1  0   -1.0       2     0.0\n",
      "['BINARY', 7 rows, 1000 samples, 8 variables]\n"
     ]
    }
   ],
   "source": [
    "sampleset = sampler_auto.sample_qubo(Q, num_reads=1000)\n",
    "print(sampleset)"
   ]
  },
  {
   "cell_type": "code",
   "execution_count": 6,
   "id": "2297f779",
   "metadata": {},
   "outputs": [
    {
     "name": "stdout",
     "output_type": "stream",
     "text": [
      "  q1 q2 q3 q4 q5 q6 q7 q8 energy num_oc. chain_.\n",
      "0  0  0  1  0  0  1  0  0  -26.0     880     0.0\n",
      "1  0  0  1  0  1  1  0  0  -21.0      31     0.0\n",
      "2  0  0  1  0  1  0  0  0  -21.0      23     0.0\n",
      "3  0  0  0  1  0  1  0  0  -16.0      44     0.0\n",
      "4  0  0  0  0  0  1  0  0  -16.0      15     0.0\n",
      "5  0  0  0  1  1  1  0  0  -13.0       5     0.0\n",
      "6  0  0  0  0  1  0  0  0  -13.0       1     0.0\n",
      "7  0  0  0  1  1  0  0  0   -9.0       1     0.0\n",
      "['BINARY', 8 rows, 1000 samples, 8 variables]\n"
     ]
    }
   ],
   "source": [
    "sampleset = sampler_auto.sample_qubo(Q, num_reads=1000)\n",
    "print(sampleset)"
   ]
  },
  {
   "cell_type": "code",
   "execution_count": 7,
   "id": "f5e69e26",
   "metadata": {},
   "outputs": [
    {
     "name": "stdout",
     "output_type": "stream",
     "text": [
      "  q1 q2 q3 q4 q5 q6 q7 q8 energy num_oc. chain_.\n",
      "0  0  0  1  0  0  1  0  0  -26.0     881     0.0\n",
      "9  0  0  1  0  0  1  0  0  -26.0       1   0.125\n",
      "1  0  0  1  0  1  1  0  0  -21.0      53     0.0\n",
      "2  0  0  1  0  1  0  0  0  -21.0      51     0.0\n",
      "7  0  0  1  0  1  1  0  0  -21.0       1   0.125\n",
      "3  0  0  0  1  0  1  0  0  -16.0       7     0.0\n",
      "4  0  0  0  0  0  1  0  0  -16.0       3     0.0\n",
      "5  0  0  0  0  1  0  0  0  -13.0       1     0.0\n",
      "6  0  0  0  1  1  1  0  0  -13.0       1     0.0\n",
      "8  1  0  1  0  0  1  0  0    4.0       1     0.0\n",
      "['BINARY', 10 rows, 1000 samples, 8 variables]\n"
     ]
    }
   ],
   "source": [
    "sampleset = sampler_auto.sample_qubo(Q, num_reads=1000)\n",
    "print(sampleset)"
   ]
  },
  {
   "cell_type": "code",
   "execution_count": 8,
   "id": "27c35480",
   "metadata": {},
   "outputs": [
    {
     "name": "stdout",
     "output_type": "stream",
     "text": [
      "  q1 q2 q3 q4 q5 q6 q7 q8 energy num_oc. chain_.\n",
      "0  0  0  1  0  0  1  0  0  -26.0     806     0.0\n",
      "1  0  0  1  0  1  0  0  0  -21.0     114     0.0\n",
      "2  0  0  1  0  1  1  0  0  -21.0      68     0.0\n",
      "3  0  0  0  1  0  1  0  0  -16.0       5     0.0\n",
      "4  0  0  0  0  0  1  0  0  -16.0       4     0.0\n",
      "5  0  0  0  0  1  0  0  0  -13.0       1     0.0\n",
      "6  0  0  0  0  1  1  0  0   -9.0       1     0.0\n",
      "7  0  0  1  0  0  0  0  0   -6.0       1     0.0\n",
      "['BINARY', 8 rows, 1000 samples, 8 variables]\n"
     ]
    }
   ],
   "source": [
    "sampleset = sampler_auto.sample_qubo(Q, num_reads=1000)\n",
    "print(sampleset)"
   ]
  },
  {
   "cell_type": "code",
   "execution_count": 9,
   "id": "c98c1510",
   "metadata": {},
   "outputs": [
    {
     "name": "stdout",
     "output_type": "stream",
     "text": [
      "  q1 q2 q3 q4 q5 q6 q7 q8 energy num_oc. chain_.\n",
      "0  0  0  1  0  0  1  0  0  -26.0     861     0.0\n",
      "1  0  0  1  0  1  1  0  0  -21.0      35     0.0\n",
      "2  0  0  1  0  1  0  0  0  -21.0      39     0.0\n",
      "3  0  0  0  0  0  1  0  0  -16.0      13     0.0\n",
      "4  0  0  0  1  0  1  0  0  -16.0      41     0.0\n",
      "5  0  0  0  0  1  0  0  0  -13.0       3     0.0\n",
      "6  0  0  0  1  1  1  0  0  -13.0       6     0.0\n",
      "7  0  0  0  1  1  0  0  0   -9.0       1     0.0\n",
      "8  0  0  1  0  0  1  1  0   -1.0       1     0.0\n",
      "['BINARY', 9 rows, 1000 samples, 8 variables]\n"
     ]
    }
   ],
   "source": [
    "sampleset = sampler_auto.sample_qubo(Q, num_reads=1000)\n",
    "print(sampleset)"
   ]
  },
  {
   "cell_type": "code",
   "execution_count": 10,
   "id": "9cb6f054",
   "metadata": {},
   "outputs": [
    {
     "name": "stdout",
     "output_type": "stream",
     "text": [
      "  q1 q2 q3 q4 q5 q6 q7 q8 energy num_oc. chain_.\n",
      "0  0  0  1  0  0  1  0  0  -26.0     803     0.0\n",
      "1  0  0  1  0  1  0  0  0  -21.0      66     0.0\n",
      "2  0  0  1  0  1  1  0  0  -21.0     111     0.0\n",
      "3  0  0  0  1  0  1  0  0  -16.0       8     0.0\n",
      "4  0  0  0  0  0  1  0  0  -16.0       9     0.0\n",
      "5  0  0  0  0  1  0  0  0  -13.0       2     0.0\n",
      "6  0  0  0  1  1  1  0  0  -13.0       1     0.0\n",
      "['BINARY', 7 rows, 1000 samples, 8 variables]\n"
     ]
    }
   ],
   "source": [
    "sampleset = sampler_auto.sample_qubo(Q, num_reads=1000)\n",
    "print(sampleset)"
   ]
  },
  {
   "cell_type": "code",
   "execution_count": 11,
   "id": "520e002f",
   "metadata": {},
   "outputs": [
    {
     "name": "stdout",
     "output_type": "stream",
     "text": [
      "  q1 q2 q3 q4 q5 q6 q7 q8 energy num_oc. chain_.\n",
      "0  0  0  1  0  0  1  0  0  -26.0     884     0.0\n",
      "1  0  0  1  0  1  1  0  0  -21.0      43     0.0\n",
      "2  0  0  1  0  1  0  0  0  -21.0      41     0.0\n",
      "3  0  0  0  1  0  1  0  0  -16.0      18     0.0\n",
      "4  0  0  0  0  0  1  0  0  -16.0      11     0.0\n",
      "5  0  0  0  1  1  1  0  0  -13.0       3     0.0\n",
      "['BINARY', 6 rows, 1000 samples, 8 variables]\n"
     ]
    }
   ],
   "source": [
    "sampleset = sampler_auto.sample_qubo(Q, num_reads=1000)\n",
    "print(sampleset)"
   ]
  },
  {
   "cell_type": "code",
   "execution_count": 12,
   "id": "a6d6e731",
   "metadata": {},
   "outputs": [
    {
     "name": "stdout",
     "output_type": "stream",
     "text": [
      "  q1 q2 q3 q4 q5 q6 q7 q8 energy num_oc. chain_.\n",
      "0  0  0  1  0  0  1  0  0  -26.0     797     0.0\n",
      "1  0  0  1  0  1  0  0  0  -21.0      68     0.0\n",
      "2  0  0  1  0  1  1  0  0  -21.0      89     0.0\n",
      "3  0  0  0  0  0  1  0  0  -16.0      16     0.0\n",
      "4  0  0  0  1  0  1  0  0  -16.0      21     0.0\n",
      "5  0  0  0  0  1  0  0  0  -13.0       6     0.0\n",
      "6  0  0  0  1  1  1  0  0  -13.0       2     0.0\n",
      "7  0  0  1  0  0  0  0  0   -6.0       1     0.0\n",
      "['BINARY', 8 rows, 1000 samples, 8 variables]\n"
     ]
    }
   ],
   "source": [
    "sampleset = sampler_auto.sample_qubo(Q, num_reads=1000)\n",
    "print(sampleset)"
   ]
  },
  {
   "cell_type": "code",
   "execution_count": null,
   "id": "bc2f86f3",
   "metadata": {},
   "outputs": [],
   "source": []
  }
 ],
 "metadata": {
  "kernelspec": {
   "display_name": "Python 3 (ipykernel)",
   "language": "python",
   "name": "python3"
  },
  "language_info": {
   "codemirror_mode": {
    "name": "ipython",
    "version": 3
   },
   "file_extension": ".py",
   "mimetype": "text/x-python",
   "name": "python",
   "nbconvert_exporter": "python",
   "pygments_lexer": "ipython3",
   "version": "3.8.12"
  }
 },
 "nbformat": 4,
 "nbformat_minor": 5
}
