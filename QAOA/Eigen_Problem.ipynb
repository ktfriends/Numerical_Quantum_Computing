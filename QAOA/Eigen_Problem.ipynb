{
 "cells": [
  {
   "cell_type": "code",
   "execution_count": null,
   "id": "0630b1e8-1199-4790-be9c-87b10945e6c9",
   "metadata": {},
   "outputs": [],
   "source": [
    "# Eigen value and Eigen vector problem\n",
    "\n",
    "# First eigen value and eigen vector\n",
    "#  3   4 * -4 = 2 * -4\n",
    "# -1  -2    1        1\n",
    "\n",
    "# Second eigen value and eigen vector\n",
    "#  3   4 * -1 = -1 * -1\n",
    "# -1  -2    1         1\n",
    "\n",
    "# Find second solution\n",
    "# xi and ramda = 2 q0 + q1 - 2 q2 - q3\n",
    "\n",
    "from dwave.system import DWaveSampler, EmbeddingComposite\n",
    "\n",
    "sampler_auto = EmbeddingComposite(DWaveSampler(solver={'qpu': True}))\n",
    "\n",
    "linear = {('q0','q0'):-56, ('q1','q1'):-34 , ('q2','q2'):104, ('q3','q3'):46, ('q4','q4'):296, ('q5','q5'):122}\n",
    "\n",
    "\n",
    "quadratic = {('q0','q1'):24, ('q0','q2'):- 48, ('q1','q2'):- 24, ('q0','q3'):- 24,\n",
    "             ('q1','q3'):- 12, ('q2','q3'):24, ('q0','q4'): - 88, ('q1','q4'):- 44, \n",
    "             ('q2','q4'):88,('q3','q4'):44, ('q0','q5'):-44,('q1','q5'):- 22, ('q2','q5'):44,\n",
    "             ('q3','q5'):22, ('q4','q5'):104,('q0','q6'):88, ('q1','q6'):44,('q2','q6'):- 88, \n",
    "             ('q3','q6'):- 44,('q4','q6'):- 208, ('q5','q6'):- 104,('q0','q7'):44, ('q1','q7'):22,\n",
    "             ('q2','q7'):- 44, ('q3','q7'):- 22,('q4','q7'):- 104, ('q5','q7'): - 52,('q6','q7'):104,\n",
    "             ('q0','q8'):- 64, ('q1','q8'):- 32, ('q2','q8'):64, ('q3','q8'):32,\n",
    "             ('q4','q8'):120, ('q5','q8'):60, ('q6','q8'):- 120, ('q7','q8'):- 60,\n",
    "             ('q0','q9'):-32, ('q1','q9'):- 16, ('q2','q9'):32, ('q3','q9'):16,\n",
    "             ('q4','q9'):60, ('q5','q9'):30, ('q6','q9'):- 60, ('q7','q9'):- 30, ('q8','q9'):72,  \n",
    "             ('q0','q10'):64, ('q1','q10'):32, ('q2','q10'):- 64, ('q3','q10'):- 32,\n",
    "             ('q4','q10'):- 120, ('q5','q10'):-60, ('q6','q10'):120, ('q7','q10'):60, ('q8','q10'): - 144, ('q9','q10'):- 72,\n",
    "             ('q0','q11'):32, ('q1','q11'):16, ('q2','q11'):- 32, ('q3','q11'):- 16.0,\n",
    "             ('q4','q11'):-60, ('q5','q11'):- 30, ('q6','q11'):60, ('q7','q11'):30,\n",
    "             ('q8','q11'):- 72, ('q9','q11'):-36, ('q10','q11'):72}\n",
    "\n",
    "Q = dict(linear)\n",
    "Q.update(quadratic)\n",
    "\n",
    "\n",
    "\n",
    "# Minor Embed and sample 1000 times on a default D-Wave sytem\n",
    "sampleset = sampler_auto.sample_qubo(Q, num_reads=100)\n",
    "print(sampleset)"
   ]
  }
 ],
 "metadata": {
  "kernelspec": {
   "display_name": "Python 3 (ipykernel)",
   "language": "python",
   "name": "python3"
  },
  "language_info": {
   "codemirror_mode": {
    "name": "ipython",
    "version": 3
   },
   "file_extension": ".py",
   "mimetype": "text/x-python",
   "name": "python",
   "nbconvert_exporter": "python",
   "pygments_lexer": "ipython3",
   "version": "3.8.12"
  }
 },
 "nbformat": 4,
 "nbformat_minor": 5
}
