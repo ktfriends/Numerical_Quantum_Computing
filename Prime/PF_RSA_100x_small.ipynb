{
 "cells": [
  {
   "cell_type": "code",
   "execution_count": 1,
   "id": "05c2e8fb",
   "metadata": {},
   "outputs": [
    {
     "name": "stdout",
     "output_type": "stream",
     "text": [
      "first prime number:  10111\n",
      "second prime number:  101\n",
      "RSA number:  1021211\n"
     ]
    }
   ],
   "source": [
    "####################################################\n",
    "###       Prime factorization for RSA keys       ###\n",
    "###        Code developer: Kyungtaek Jun         ###\n",
    "###     Code version 1.0 - integer variable      ### \n",
    "####################################################\n",
    "\n",
    "##### Initial setting #####\n",
    "# x1 = q0 + 2q1 + 4q2 + --- + 2^(n-1)q(n-1)\n",
    "# x2 = qn + 2q(n+1) + 4q(n+2) + ---  2^(n-1)q(2n-1)\n",
    "# x1x2 = c\n",
    "\n",
    "### Least square problem \n",
    "# QUBO = (x1x2 - c)^2 - c^2\n",
    "\n",
    "import numpy as np\n",
    "import random, math\n",
    "import copy\n",
    "from dwave.system import DWaveSampler, EmbeddingComposite\n",
    "import dimod\n",
    "\n",
    "  \n",
    "x1 = int(10111)\n",
    "x2 = int(101)\n",
    "c = x1*x2\n",
    "print (\"first prime number: \",x1)\n",
    "print (\"second prime number: \",x2)\n",
    "print (\"RSA number: \",c)"
   ]
  },
  {
   "cell_type": "code",
   "execution_count": 2,
   "id": "0abdbc08",
   "metadata": {},
   "outputs": [],
   "source": [
    "qubits = 14\n",
    "max_d = format(len(str(2*qubits)), '02')\n",
    "QM = np.zeros((2*qubits, 2*qubits))\n",
    "Q = {}\n",
    "\n",
    "for j in range(qubits):\n",
    "    for i in range(qubits):\n",
    "        po1 = i\n",
    "        po2 = qubits+j\n",
    "        val = pow(2,2*(i+j)) - 2*c*pow(2,i+j)\n",
    "        exec(\"Q.update({('q%s','q%s'):%s})\"%(format(po1+1,max_d),format(po2+1,max_d), format(val)))\n",
    "        \n",
    "for k in range(qubits):\n",
    "    for i in range(qubits-1):\n",
    "        for j in range(i+1,qubits):\n",
    "            #2^(i+j+2k+1)aiajbk\n",
    "            po1 = i\n",
    "            po2 = j\n",
    "            po3 = qubits+k\n",
    "            val = pow(2,i+j+2*k+1)\n",
    "            exec(\"Q.update({('q%s','q%s','q%s'):%s})\"%(format(po1+1,max_d),format(po2+1,max_d), \n",
    "                                                           format(po3+1,max_d), format(val)))\n",
    "\n",
    "for k in range(qubits):\n",
    "    for i in range(qubits-1):\n",
    "        for j in range(i+1,qubits):\n",
    "            #2^(i+j+2k+1)akbibj\n",
    "            po1 = k\n",
    "            po2 = qubits+i\n",
    "            po3 = qubits+j\n",
    "            val = pow(2,i+j+2*k+1)\n",
    "            exec(\"Q.update({('q%s','q%s','q%s'):%s})\"%(format(po1+1,max_d),format(po2+1,max_d), \n",
    "                                                           format(po3+1,max_d), format(val)))\n",
    "\n",
    "for i2 in range(qubits-1):\n",
    "    for j2 in range(i2+1,qubits):\n",
    "        for i1 in range(qubits-1):\n",
    "            for j1 in range(i1+1,qubits):\n",
    "                po1 = i1\n",
    "                po2 = j1\n",
    "                po3 = qubits+i2\n",
    "                po4 = qubits+j2\n",
    "                val = pow(2,i1+j1+i2+j2+2)\n",
    "                exec(\"Q.update({('q%s','q%s','q%s','q%s'):%s})\"%(format(po1+1,max_d),format(po2+1,max_d), \n",
    "                                                                     format(po3+1,max_d), format(po4+1,max_d), format(val))) "
   ]
  },
  {
   "cell_type": "code",
   "execution_count": 3,
   "id": "4468f884",
   "metadata": {},
   "outputs": [
    {
     "name": "stdout",
     "output_type": "stream",
     "text": [
      "[10111.   101.]\n",
      "[  101. 10111.]\n"
     ]
    }
   ],
   "source": [
    "sampler_auto = EmbeddingComposite(DWaveSampler(solver={'qpu': True}))\n",
    "sampleset = dimod.ExactPolySolver().sample_hubo(Q)\n",
    "\n",
    "# energy = 0\n",
    "energies = sampleset.record.energy\n",
    "energy0_nums = np.where(energies==-pow(c,2))[0]\n",
    "x = np.zeros(2)\n",
    "for idx in range(len(energy0_nums)):\n",
    "    sol1 = sampleset.record[energy0_nums[idx]][0]\n",
    "    for xk in range(2):\n",
    "        x[xk]=0\n",
    "    lambda1 = 0\n",
    "    for xk in range(2):\n",
    "        for k in range(qubits):\n",
    "            x[xk] = x[xk] + pow(2,k)*(sol1[xk*qubits+k])\n",
    "    \n",
    "    print(x)"
   ]
  },
  {
   "cell_type": "code",
   "execution_count": 4,
   "id": "53c17009",
   "metadata": {},
   "outputs": [
    {
     "name": "stdout",
     "output_type": "stream",
     "text": [
      "Sample(sample={'q01': 1, 'q02': 1, 'q03': 1, 'q04': 1, 'q05': 1, 'q06': 1, 'q07': 1, 'q08': 0, 'q09': 1, 'q10': 1, 'q11': 1, 'q12': 0, 'q13': 0, 'q14': 1, 'q15': 1, 'q16': 0, 'q17': 1, 'q18': 0, 'q19': 0, 'q20': 1, 'q21': 1, 'q22': 0, 'q23': 0, 'q24': 0, 'q25': 0, 'q26': 0, 'q27': 0, 'q28': 0}, energy=-1042871906521.0, num_occurrences=1)\n"
     ]
    }
   ],
   "source": [
    "print(sampleset.first)"
   ]
  }
 ],
 "metadata": {
  "kernelspec": {
   "display_name": "Python 3 (ipykernel)",
   "language": "python",
   "name": "python3"
  },
  "language_info": {
   "codemirror_mode": {
    "name": "ipython",
    "version": 3
   },
   "file_extension": ".py",
   "mimetype": "text/x-python",
   "name": "python",
   "nbconvert_exporter": "python",
   "pygments_lexer": "ipython3",
   "version": "3.8.8"
  }
 },
 "nbformat": 4,
 "nbformat_minor": 5
}
