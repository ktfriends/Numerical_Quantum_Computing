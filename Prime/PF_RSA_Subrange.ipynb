{
 "cells": [
  {
   "cell_type": "code",
   "execution_count": 91,
   "id": "05c2e8fb",
   "metadata": {},
   "outputs": [
    {
     "name": "stdout",
     "output_type": "stream",
     "text": [
      "first prime number:  1000033\n",
      "second prime number:  1000037\n",
      "RSA number:  1000070001221\n"
     ]
    }
   ],
   "source": [
    "##### Initial setting #####\n",
    "# p = q0 + 2q1 + 4q2 + --- + 2^(n-1)q(n-1)\n",
    "# q = qn + 2q(n+1) + 4q(n+2) + ---  2^(n-1)q(2n-1)\n",
    "# pq = N\n",
    "\n",
    "### Least square problem \n",
    "# HUBO = (pq - N)^2 - N^2\n",
    "\n",
    "import numpy as np\n",
    "import random, math\n",
    "import copy\n",
    "from dwave.system import DWaveSampler, EmbeddingComposite\n",
    "import dimod\n",
    "from decimal import Decimal\n",
    "\n",
    "p = int(1000033)\n",
    "q = int(1000037)\n",
    "N = p*q\n",
    "print (\"first prime number: \",p)\n",
    "print (\"second prime number: \",q)\n",
    "print (\"RSA number: \",N)"
   ]
  },
  {
   "cell_type": "code",
   "execution_count": 92,
   "id": "0abdbc08",
   "metadata": {},
   "outputs": [
    {
     "name": "stdout",
     "output_type": "stream",
     "text": [
      "Required global minimum energy:  -4900170941490841\n"
     ]
    }
   ],
   "source": [
    "Si = int(1000000)\n",
    "Sj = int(1000000)\n",
    "qubits = 6\n",
    "max_d = format(len(str(2*qubits)), '02')\n",
    "QM = np.zeros((2*qubits, 2*qubits))\n",
    "Q = {}\n",
    "GME = -N*N - Si*Si*Sj*Sj + 2*N*Si*Sj\n",
    "print(\"Required global minimum energy: \", GME)\n",
    "# linear subrange terms\n",
    "for k in range(qubits):\n",
    "    po = k\n",
    "    val = (pow(2,2*k) + pow(2,k+1)*Si)*Sj*Sj - 2*N*Sj*pow(2,k)\n",
    "    exec(\"Q.update({('q%s','q%s'):%s})\"%(format(po+1,max_d),format(po+1,max_d), format(val)))\n",
    "    \n",
    "for k in range(qubits):\n",
    "    po = k + qubits\n",
    "    val = (pow(2,2*k) + pow(2,k+1)*Sj)*Si*Si - 2*N*Si*pow(2,k)\n",
    "    exec(\"Q.update({('q%s','q%s'):%s})\"%(format(po+1,max_d),format(po+1,max_d), format(val)))\n",
    "\n",
    "# quadratic subrange terms\n",
    "for i in range(qubits-1):\n",
    "    for j in range(i+1,qubits):\n",
    "        po1 = i\n",
    "        po2 = j\n",
    "        val = Sj*Sj*pow(2,i+j+1) \n",
    "        exec(\"Q.update({('q%s','q%s'):%s})\"%(format(po1+1,max_d),format(po2+1,max_d), format(val)))\n",
    "        \n",
    "for i in range(qubits-1):\n",
    "    for j in range(i+1,qubits):\n",
    "        po1 = i + qubits\n",
    "        po2 = j + qubits\n",
    "        val = Si*Si*pow(2,i+j+1) \n",
    "        exec(\"Q.update({('q%s','q%s'):%s})\"%(format(po1+1,max_d),format(po2+1,max_d), format(val)))\n",
    "        \n",
    "for i in range(qubits):\n",
    "    for j in range(qubits):\n",
    "        po1 = i\n",
    "        po2 = j + qubits\n",
    "        val = pow(2,2*(i+j)) + pow(2,i+2*j+1)*Si + pow(2,2*i+j+1)*Sj + Si*Si*pow(2,i+j+2) - N*pow(2,i+j+1)\n",
    "        exec(\"Q.update({('q%s','q%s'):%s})\"%(format(po1+1,max_d),format(po2+1,max_d), format(val)))        \n",
    "\n",
    "# cubic subrange terms      \n",
    "for k in range(qubits):\n",
    "    for i in range(qubits-1):\n",
    "        for j in range(i+1,qubits):\n",
    "            #2^(i+j+2k+1)aiajbk\n",
    "            po1 = i\n",
    "            po2 = j\n",
    "            po3 = qubits+k\n",
    "            val = pow(2,i+j+1)*(pow(2,2*k) + pow(2,k+1)*Sj)\n",
    "            exec(\"Q.update({('q%s','q%s','q%s'):%s})\"%(format(po1+1,max_d),format(po2+1,max_d), \n",
    "                                                           format(po3+1,max_d), format(val)))\n",
    "\n",
    "for k in range(qubits):\n",
    "    for i in range(qubits-1):\n",
    "        for j in range(i+1,qubits):\n",
    "            #2^(i+j+2k+1)akbibj\n",
    "            po1 = k\n",
    "            po2 = qubits+i\n",
    "            po3 = qubits+j\n",
    "            val = pow(2,i+j+1)*(pow(2,2*k) + pow(2,k+1)*Si)\n",
    "            exec(\"Q.update({('q%s','q%s','q%s'):%s})\"%(format(po1+1,max_d),format(po2+1,max_d), \n",
    "                                                           format(po3+1,max_d), format(val)))\n",
    "# quartic subrange terms \n",
    "for i2 in range(qubits-1):\n",
    "    for j2 in range(i2+1,qubits):\n",
    "        for i1 in range(qubits-1):\n",
    "            for j1 in range(i1+1,qubits):\n",
    "                po1 = i1\n",
    "                po2 = j1\n",
    "                po3 = qubits+i2\n",
    "                po4 = qubits+j2\n",
    "                val = pow(2,i1+j1+i2+j2+2)\n",
    "                exec(\"Q.update({('q%s','q%s','q%s','q%s'):%s})\"%(format(po1+1,max_d),format(po2+1,max_d), \n",
    "                                                                     format(po3+1,max_d), format(po4+1,max_d), format(val)))  "
   ]
  },
  {
   "cell_type": "code",
   "execution_count": 93,
   "id": "4468f884",
   "metadata": {},
   "outputs": [
    {
     "name": "stdout",
     "output_type": "stream",
     "text": [
      "[37. 33.]\n",
      "[33. 37.]\n",
      "prime number:  [1000033. 1000037.]\n"
     ]
    }
   ],
   "source": [
    "sampler_auto = EmbeddingComposite(DWaveSampler(solver={'qpu': True}))\n",
    "sampleset = dimod.ExactPolySolver().sample_hubo(Q)\n",
    "\n",
    "# energy = 0\n",
    "energies = sampleset.record.energy\n",
    "energy0_nums = np.where(energies==GME)[0]\n",
    "x = np.zeros(2)\n",
    "for idx in range(len(energy0_nums)):\n",
    "    sol1 = sampleset.record[energy0_nums[idx]][0]\n",
    "    for xk in range(2):\n",
    "        x[xk]=0\n",
    "    lambda1 = 0\n",
    "    for xk in range(2):\n",
    "        for k in range(qubits):\n",
    "            x[xk] = x[xk] + pow(2,k)*(sol1[xk*qubits+k])\n",
    "    \n",
    "    print(x)\n",
    "print (\"prime number: \",x+[Si,Sj])"
   ]
  },
  {
   "cell_type": "code",
   "execution_count": null,
   "id": "55426206",
   "metadata": {},
   "outputs": [],
   "source": []
  }
 ],
 "metadata": {
  "kernelspec": {
   "display_name": "Python 3 (ipykernel)",
   "language": "python",
   "name": "python3"
  },
  "language_info": {
   "codemirror_mode": {
    "name": "ipython",
    "version": 3
   },
   "file_extension": ".py",
   "mimetype": "text/x-python",
   "name": "python",
   "nbconvert_exporter": "python",
   "pygments_lexer": "ipython3",
   "version": "3.8.8"
  }
 },
 "nbformat": 4,
 "nbformat_minor": 5
}
